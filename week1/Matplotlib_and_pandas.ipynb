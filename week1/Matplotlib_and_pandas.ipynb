{
  "cells": [
    {
      "cell_type": "markdown",
      "metadata": {
        "id": "1e7-YENWfruA"
      },
      "source": [
        "#Exploring Data Visualization with Matplotlib in Google Colab\n",
        "\n",
        "Welcome to this hands-on exercise on data visualization using Matplotlib in Google Colab! Matplotlib is a powerful and widely used library for creating static, animated, and interactive visualizations in Python.\n",
        "\n",
        "Upload the company_sales_data.csv given in the Github repo to your gdrive and mount your google drive for the following exercises. Read this file using Pandas or NumPy or using in-built matplotlib function."
      ]
    },
    {
      "cell_type": "code",
      "execution_count": 1,
      "metadata": {
        "id": "3mce9alwf6_s"
      },
      "outputs": [],
      "source": [
        "#import required libraries and mount gdrive here\n",
        "from google.colab import drive\n",
        "drive.mount('/content/drive')"
      ]
    },
    {
      "cell_type": "markdown",
      "metadata": {
        "id": "CnP0p2G-evKz"
      },
      "source": [
        "Exercise 1: Read Total profit of all months and show it using a line plot\n",
        "Total profit data provided for each month. Generated line plot must include the following properties: –\n",
        "\n",
        "Line Style dotted and Line-color should be red  \n",
        "Show legend at the lower right location.  \n",
        "X label name = Month Number  \n",
        "Y label name = Profit in dollar  \n",
        "Add a circle marker.  \n",
        "Line marker color as read  \n",
        "Line width should be 3  "
      ]
    },
    {
      "cell_type": "code",
      "execution_count": 2,
      "metadata": {
        "id": "fxHeVHtaejsL"
      },
      "outputs": [],
      "source": [
        "#code here\n",
        "import pandas as pd\n",
        "import matplotlib.pyplot as plt\n",
        "\n",
        "sales_data = pd.read_csv('/content/drive/My Drive/company_sales_data.csv')\n",
        "total_profit = sales_data.iloc[:,-1]\n",
        "\n",
        "plt.plot(range(1,13), total_profit, linestyle=\":\", color=\"r\", linewidth=3, marker=\"o\", markerfacecolor=\"red\", label=\"Monthly Profit\")\n",
        "plt.xlabel(\"Month Number\")\n",
        "plt.ylabel(\"Profit in dollar\")\n",
        "plt.legend(loc=\"lower right\")\n",
        "plt.show()"
      ]
    },
    {
      "cell_type": "markdown",
      "metadata": {
        "id": "ILCkGHzce2Aj"
      },
      "source": [
        "Exercise 2: Read all product sales data and show it  using a multiline plot.\n",
        " Display the number of units sold per month for each product using multiline plots. (i.e., Separate Plotline and different color for each product )."
      ]
    },
    {
      "cell_type": "code",
      "execution_count": 3,
      "metadata": {
        "id": "uYkBIax0fPfv"
      },
      "outputs": [],
      "source": [
        "#code here\n",
        "headers = sales_data.columns\n",
        "# print(headers)\n",
        "\n",
        "month_no = sales_data.iloc[:,0]\n",
        "\n",
        "products = {}\n",
        "\n",
        "for i in range(1,7):\n",
        "    products[headers[i]] = sales_data.iloc[:,i]\n",
        "\n",
        "j=0\n",
        "for key, value in products.items():\n",
        "    clr = (1-(j*30)/255, 0.1+j*20/255, 0.8-j*10/255)\n",
        "    plt.plot(month_no, value, color=clr, label=key, marker=\"o\")\n",
        "    j = j+1\n",
        "plt.xlabel(\"Month_no.\")\n",
        "plt.ylabel(\"Number of Products sold\")\n",
        "plt.legend()\n",
        "plt.show"
      ]
    },
    {
      "cell_type": "markdown",
      "metadata": {
        "id": "ZS1DIXivfRKE"
      },
      "source": [
        "Exercise 3: Calculate total sale data for last year for each product and show it using a Pie chart  \n",
        "Note: In Pie chart display Number of units sold per year for each product in percentage.\n"
      ]
    },
    {
      "cell_type": "code",
      "execution_count": 4,
      "metadata": {
        "id": "qi30DsdOffd9"
      },
      "outputs": [],
      "source": [
        "#code here\n",
        "\n",
        "items_sold = {}\n",
        "\n",
        "for key, value in products.items():\n",
        "    product_sum = value.sum()\n",
        "    items_sold[key] = product_sum\n",
        "\n",
        "items_sold_new = {key.capitalize(): value for key,value in items_sold.items()}\n",
        "\n",
        "plt.pie(items_sold_new.values(), labels=items_sold_new.keys(), autopct=\"%1.2f%%\")\n",
        "plt.axis(\"equal\")\n",
        "plt.title(\"Total Sale Data for last year\")\n",
        "plt.plot()"
      ]
    }
  ],
  "metadata": {
    "colab": {
      "provenance": []
    },
    "kernelspec": {
      "display_name": "Python 3",
      "name": "python3"
    },
    "language_info": {
      "name": "python",
      "version": "3.12.1"
    }
  },
  "nbformat": 4,
  "nbformat_minor": 0
}
